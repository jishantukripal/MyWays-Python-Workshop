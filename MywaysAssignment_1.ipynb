{
  "nbformat": 4,
  "nbformat_minor": 0,
  "metadata": {
    "colab": {
      "name": "MywaysAssignment-1.ipynb",
      "provenance": [],
      "authorship_tag": "ABX9TyPE6bl4TXNmZFngh5K2QdU5",
      "include_colab_link": true
    },
    "kernelspec": {
      "name": "python3",
      "display_name": "Python 3"
    },
    "language_info": {
      "name": "python"
    }
  },
  "cells": [
    {
      "cell_type": "markdown",
      "metadata": {
        "id": "view-in-github",
        "colab_type": "text"
      },
      "source": [
        "<a href=\"https://colab.research.google.com/github/jishantukripal/MyWays-Python-Workshop/blob/main/MywaysAssignment_1.ipynb\" target=\"_parent\"><img src=\"https://colab.research.google.com/assets/colab-badge.svg\" alt=\"Open In Colab\"/></a>"
      ]
    },
    {
      "cell_type": "markdown",
      "source": [
        "**Myways Python Workshop - Day 1 - Assignment**\n",
        "\n",
        "\n",
        "Submitted By: **Jishantu Kripal Bordoloi**\n",
        "\n",
        "Email Id: **jishantukripal9@gmail.com**\n",
        "\n",
        "Contact Number:  **+91 9954924045**\n"
      ],
      "metadata": {
        "id": "_RREMZnG5eAv"
      }
    },
    {
      "cell_type": "markdown",
      "source": [
        "Problem Statement 1: To build a \"**Dice Roll Simulator with Python**\""
      ],
      "metadata": {
        "id": "j92vuLtT5HPw"
      }
    },
    {
      "cell_type": "code",
      "source": [
        "#importing random python module to use random function for generating dice value.\n",
        "\n",
        "import random\n",
        "\n",
        "#generated value range\n",
        "\n",
        "minimum_value=1\n",
        "maximum_value=6\n",
        "\n",
        "#Confirmation from user to roll the dice again & again while playing.\n",
        "\n",
        "roll_again = \"yes\" or \"y\" or \"Y\"\n",
        "\n",
        "#while loop to run the simulator again & again\n",
        "\n",
        "while roll_again == \"yes\" or roll_again == \"y\" or roll_again == \"Y\":\n",
        "    print(\"Rolling The Dices...\")\n",
        "    print(\"The Dice value is:\")\n",
        "    \n",
        "    #generating and printing 1st random integer from 1 to 6\n",
        "    number=random.randint(minimum_value, maximum_value)\n",
        "    print(number)\n",
        "    \n",
        "    \n",
        "    #confirming user to roll the dice again. Any input other than yes or y or Y will end the loop & to simulate the simulator, one need to run the program again\n",
        "    roll_again = input(\"Roll the Dices Again?\") "
      ],
      "metadata": {
        "id": "cQeMxBUY585N"
      },
      "execution_count": null,
      "outputs": []
    },
    {
      "cell_type": "markdown",
      "source": [
        "Problem Statement 2: To build an \" **Armstrong Number Checker** \""
      ],
      "metadata": {
        "id": "NbTfmg6o71JW"
      }
    },
    {
      "cell_type": "markdown",
      "source": [
        "An Armstrong number is an integer such that the sum of the cubes of its digits is equal to the number itself.\n",
        "\n",
        "For example: In case of number 371;\n",
        "\n",
        "cube of 3 + cube of 7 + cube of 1 = 371 (number itself)\n",
        "\n",
        "So, 371 is an armstrong number.\n",
        "\n",
        "Examples of Armstrong Numbers are : 153, 371, 370, 1634 etc."
      ],
      "metadata": {
        "id": "uL7M-fy79PIC"
      }
    },
    {
      "cell_type": "code",
      "source": [
        "#defining number variable to take the input to check whether it is an Armstrong number or not\n",
        "number = int(input(\"Enter the number to whether it is Armstrong or not: \"))\n",
        "\n",
        "#considering sum of all the digits in the input number is zero\n",
        "sum = 0\n",
        "\n",
        "# a variable n to calculate the length of number or the number of digits\n",
        "n = len(str(number))\n",
        "\n",
        "\n",
        "#declaring a temporary variable to store the value of the input number (for calculation purpose)\n",
        "temp = number\n",
        "\n",
        "#declaring a while loop to perform logical operations on the number to check its armstrongness until the number becomes zero\n",
        "while temp!=0:\n",
        "  digit = temp%10\n",
        "  sum +=digit**n\n",
        "  temp = temp//10\n",
        "\n",
        "   #checking whether the digits sum is equal to the original input number or not & depending upon result outputting the result of the test\n",
        "if number == sum:\n",
        "   print(number,\"is an Armstrong number\")\n",
        "else:\n",
        "   print(number,\"is not an Armstrong number\")"
      ],
      "metadata": {
        "id": "jIW3RN3w8vPD"
      },
      "execution_count": null,
      "outputs": []
    },
    {
      "cell_type": "markdown",
      "source": [
        "Problem Statement 3: To build a \" **Spelling Corrector Program with Python** \""
      ],
      "metadata": {
        "id": "x0wUBtxHAKBJ"
      }
    },
    {
      "cell_type": "markdown",
      "source": [
        "To build a spelling corrector, we are using a built in python library named \" **Text Blob** \". It is used for processing textual data. It provides a simple API for diving into common natural language processing (NLP) tasks such as part-of-speech tagging, noun phrase extraction, sentiment analysis, classification, translation, and more."
      ],
      "metadata": {
        "id": "6RCoDl9jAt3D"
      }
    },
    {
      "cell_type": "code",
      "source": [
        "#importing textblob function to check spelling\n",
        "from textblob import TextBlob\n",
        "\n",
        "\n",
        "word=str(input(\"Enter the word to correct the spelling:\"))\n",
        " \n",
        "#printing the given word\n",
        "print(\"original text: \"+str(word))\n",
        " \n",
        "correctword = TextBlob(word)\n",
        " \n",
        "# printing the corrected spelling\n",
        "print(\"Corrected Word: \"+str(correctword.correct()))"
      ],
      "metadata": {
        "id": "AyEN21duAVZy"
      },
      "execution_count": null,
      "outputs": []
    }
  ]
}